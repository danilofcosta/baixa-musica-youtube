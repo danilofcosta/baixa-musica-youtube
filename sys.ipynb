{
  "cells": [
    {
      "cell_type": "markdown",
      "metadata": {
        "id": "view-in-github",
        "colab_type": "text"
      },
      "source": [
        "<a href=\"https://colab.research.google.com/github/danilofcosta/baixa-musica-youtube/blob/colab/sys.ipynb\" target=\"_parent\"><img src=\"https://colab.research.google.com/assets/colab-badge.svg\" alt=\"Open In Colab\"/></a>"
      ]
    },
    {
      "cell_type": "code",
      "execution_count": null,
      "metadata": {
        "id": "tAJevMwECdL9"
      },
      "outputs": [],
      "source": [
        "!pip install pyTelegramBotAPI\n",
        "!pip install pytube\n",
        "!pip install moviepy\n",
        "!pip3 install imageio==2.4.1\n",
        "!pip install --upgrade imageio-ffmpe"
      ]
    },
    {
      "cell_type": "code",
      "execution_count": null,
      "metadata": {
        "colab": {
          "base_uri": "https://localhost:8080/"
        },
        "id": "sErwLsiKif9q",
        "outputId": "a525c244-8f02-4495-94f3-cfa1eaf3fc38"
      },
      "outputs": [
        {
          "output_type": "stream",
          "name": "stdout",
          "text": [
            "rodandando no bot "
          ]
        }
      ],
      "source": [
        "from pytube import YouTube, Playlist\n",
        "import os,telebot\n",
        "from moviepy.editor import *\n",
        "\n",
        "\n",
        "TOKEN = \"tokem\" \n",
        "bot = telebot.TeleBot(TOKEN)\n",
        "user = bot.get_me()\n",
        "\n",
        "def sending(file,chatid):\n",
        "        bot.send_audio(chatid,audio = open(f\"{file[:-4]+'.mp3'}\", 'rb'),caption=':)',disable_notification=True)\n",
        "\n",
        "\n",
        "def baixayt(link,id):\n",
        "    #verifica se o link e de playlist or lista de reprodução\n",
        "    try:\n",
        "        p=[Playlist(link)]\n",
        "        listLink=p[0]\n",
        "        if len(listLink)==0:\n",
        "            listLink.append(link)      \n",
        "    except:\n",
        "        listLink=[]\n",
        "        listLink.append(link) \n",
        "\n",
        "    #verifica se a pasta em que  download caso n existir a cria\n",
        "    #if os.path.isfile(os.path.join(os.getcwd(),'music')):#msm tendo pasta e retornado false revisar\n",
        "    ff=False\n",
        "    for f in os.listdir(os.getcwd()): \n",
        "        if f=='music':\n",
        "            ff=True\n",
        "    if ff:\n",
        "        pass\n",
        "    else:\n",
        "        os.mkdir('music')\n",
        "    outdir=os.path.join(os.getcwd(),'music')\n",
        "\n",
        "    #pesquisa e baixa a musica e tbm a converte para mp3 e remove mp4\n",
        "    for i in listLink:\n",
        "        yt=YouTube(i)\n",
        "        hd=yt.streams.filter(only_audio=True,abr='128kbps',).first().download(outdir)\n",
        "        fileyt =AudioFileClip(hd).write_audiofile(hd[:-4]+'.mp3',verbose=False,progress_bar=False)\n",
        "        fileyt =AudioFileClip(hd).close()\n",
        "        os.remove(hd)\n",
        "        sending(hd,id)\n",
        "\n",
        "\n",
        "\n",
        "@bot.message_handler(func=lambda messagem:True)\n",
        "def allmsg(m): \n",
        "    link=m.text\n",
        "    if 'https:/' in link and 'yo' in link:\n",
        "        baixayt(link,int(m.chat.id))\n",
        "        os.system('rm -r music/')\n",
        "\n",
        "print(f'rodandando no bot {user.first_name} .............')\n",
        "bot.polling()"
      ]
    }
  ],
  "metadata": {
    "colab": {
      "provenance": [],
      "authorship_tag": "ABX9TyOfRqw0IWkSL34RaJuuB5up",
      "include_colab_link": true
    },
    "kernelspec": {
      "display_name": "Python 3",
      "name": "python3"
    },
    "language_info": {
      "name": "python"
    }
  },
  "nbformat": 4,
  "nbformat_minor": 0
}
